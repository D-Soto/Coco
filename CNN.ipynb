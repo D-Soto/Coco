{
  "nbformat": 4,
  "nbformat_minor": 0,
  "metadata": {
    "anaconda-cloud": {},
    "celltoolbar": "Slideshow",
    "kernelspec": {
      "display_name": "Python 3",
      "language": "python",
      "name": "python3"
    },
    "language_info": {
      "codemirror_mode": {
        "name": "ipython",
        "version": 3
      },
      "file_extension": ".py",
      "mimetype": "text/x-python",
      "name": "python",
      "nbconvert_exporter": "python",
      "pygments_lexer": "ipython3",
      "version": "3.7.6"
    },
    "colab": {
      "name": "CNN.ipynb",
      "provenance": [],
      "collapsed_sections": [],
      "include_colab_link": true
    },
    "accelerator": "GPU"
  },
  "cells": [
    {
      "cell_type": "markdown",
      "metadata": {
        "id": "view-in-github",
        "colab_type": "text"
      },
      "source": [
        "<a href=\"https://colab.research.google.com/github/D-Soto/Coco/blob/main/CNN.ipynb\" target=\"_parent\"><img src=\"https://colab.research.google.com/assets/colab-badge.svg\" alt=\"Open In Colab\"/></a>"
      ]
    },
    {
      "cell_type": "code",
      "metadata": {
        "id": "ns1Jr_uPmyaf"
      },
      "source": [
        "import numpy as np\n",
        "import matplotlib.pyplot as plt\n",
        "import pandas as pd\n",
        "from sklearn.preprocessing import StandardScaler\n",
        "from sklearn.model_selection import train_test_split\n",
        "from tensorflow.keras.models import Sequential\n",
        "from tensorflow.keras.layers import Dense, Flatten, Conv2D, MaxPooling2D, Dropout\n",
        "from tensorflow.keras.utils import to_categorical\n",
        "from sklearn.metrics import accuracy_score"
      ],
      "execution_count": null,
      "outputs": []
    },
    {
      "cell_type": "code",
      "metadata": {
        "colab": {
          "base_uri": "https://localhost:8080/",
          "height": 253
        },
        "id": "r2mgKK_je369",
        "outputId": "59230856-4bcf-4be8-f29a-4a55db31ee53"
      },
      "source": [
        "# load the datasets\n",
        "\n",
        "train = pd.read_csv('/content/drive/My Drive/DS 12wk PT Curriculum/03: UML & Advanced Topics/4. Deep Learning/data/fashion-mnist_train.csv')\n",
        "test = pd.read_csv('/content/drive/My Drive/DS 12wk PT Curriculum/03: UML & Advanced Topics/4. Deep Learning/data/fashion-mnist_test.csv')\n",
        "train.head()"
      ],
      "execution_count": null,
      "outputs": [
        {
          "output_type": "execute_result",
          "data": {
            "text/html": [
              "<div>\n",
              "<style scoped>\n",
              "    .dataframe tbody tr th:only-of-type {\n",
              "        vertical-align: middle;\n",
              "    }\n",
              "\n",
              "    .dataframe tbody tr th {\n",
              "        vertical-align: top;\n",
              "    }\n",
              "\n",
              "    .dataframe thead th {\n",
              "        text-align: right;\n",
              "    }\n",
              "</style>\n",
              "<table border=\"1\" class=\"dataframe\">\n",
              "  <thead>\n",
              "    <tr style=\"text-align: right;\">\n",
              "      <th></th>\n",
              "      <th>label</th>\n",
              "      <th>pixel1</th>\n",
              "      <th>pixel2</th>\n",
              "      <th>pixel3</th>\n",
              "      <th>pixel4</th>\n",
              "      <th>pixel5</th>\n",
              "      <th>pixel6</th>\n",
              "      <th>pixel7</th>\n",
              "      <th>pixel8</th>\n",
              "      <th>pixel9</th>\n",
              "      <th>pixel10</th>\n",
              "      <th>pixel11</th>\n",
              "      <th>pixel12</th>\n",
              "      <th>pixel13</th>\n",
              "      <th>pixel14</th>\n",
              "      <th>pixel15</th>\n",
              "      <th>pixel16</th>\n",
              "      <th>pixel17</th>\n",
              "      <th>pixel18</th>\n",
              "      <th>pixel19</th>\n",
              "      <th>pixel20</th>\n",
              "      <th>pixel21</th>\n",
              "      <th>pixel22</th>\n",
              "      <th>pixel23</th>\n",
              "      <th>pixel24</th>\n",
              "      <th>pixel25</th>\n",
              "      <th>pixel26</th>\n",
              "      <th>pixel27</th>\n",
              "      <th>pixel28</th>\n",
              "      <th>pixel29</th>\n",
              "      <th>pixel30</th>\n",
              "      <th>pixel31</th>\n",
              "      <th>pixel32</th>\n",
              "      <th>pixel33</th>\n",
              "      <th>pixel34</th>\n",
              "      <th>pixel35</th>\n",
              "      <th>pixel36</th>\n",
              "      <th>pixel37</th>\n",
              "      <th>pixel38</th>\n",
              "      <th>pixel39</th>\n",
              "      <th>...</th>\n",
              "      <th>pixel745</th>\n",
              "      <th>pixel746</th>\n",
              "      <th>pixel747</th>\n",
              "      <th>pixel748</th>\n",
              "      <th>pixel749</th>\n",
              "      <th>pixel750</th>\n",
              "      <th>pixel751</th>\n",
              "      <th>pixel752</th>\n",
              "      <th>pixel753</th>\n",
              "      <th>pixel754</th>\n",
              "      <th>pixel755</th>\n",
              "      <th>pixel756</th>\n",
              "      <th>pixel757</th>\n",
              "      <th>pixel758</th>\n",
              "      <th>pixel759</th>\n",
              "      <th>pixel760</th>\n",
              "      <th>pixel761</th>\n",
              "      <th>pixel762</th>\n",
              "      <th>pixel763</th>\n",
              "      <th>pixel764</th>\n",
              "      <th>pixel765</th>\n",
              "      <th>pixel766</th>\n",
              "      <th>pixel767</th>\n",
              "      <th>pixel768</th>\n",
              "      <th>pixel769</th>\n",
              "      <th>pixel770</th>\n",
              "      <th>pixel771</th>\n",
              "      <th>pixel772</th>\n",
              "      <th>pixel773</th>\n",
              "      <th>pixel774</th>\n",
              "      <th>pixel775</th>\n",
              "      <th>pixel776</th>\n",
              "      <th>pixel777</th>\n",
              "      <th>pixel778</th>\n",
              "      <th>pixel779</th>\n",
              "      <th>pixel780</th>\n",
              "      <th>pixel781</th>\n",
              "      <th>pixel782</th>\n",
              "      <th>pixel783</th>\n",
              "      <th>pixel784</th>\n",
              "    </tr>\n",
              "  </thead>\n",
              "  <tbody>\n",
              "    <tr>\n",
              "      <th>0</th>\n",
              "      <td>2</td>\n",
              "      <td>0</td>\n",
              "      <td>0</td>\n",
              "      <td>0</td>\n",
              "      <td>0</td>\n",
              "      <td>0</td>\n",
              "      <td>0</td>\n",
              "      <td>0</td>\n",
              "      <td>0</td>\n",
              "      <td>0</td>\n",
              "      <td>0</td>\n",
              "      <td>0</td>\n",
              "      <td>0</td>\n",
              "      <td>0</td>\n",
              "      <td>0</td>\n",
              "      <td>0</td>\n",
              "      <td>0</td>\n",
              "      <td>0</td>\n",
              "      <td>0</td>\n",
              "      <td>0</td>\n",
              "      <td>0</td>\n",
              "      <td>0</td>\n",
              "      <td>0</td>\n",
              "      <td>0</td>\n",
              "      <td>0</td>\n",
              "      <td>0</td>\n",
              "      <td>0</td>\n",
              "      <td>0</td>\n",
              "      <td>0</td>\n",
              "      <td>0</td>\n",
              "      <td>0</td>\n",
              "      <td>0</td>\n",
              "      <td>0</td>\n",
              "      <td>0</td>\n",
              "      <td>0</td>\n",
              "      <td>0</td>\n",
              "      <td>0</td>\n",
              "      <td>0</td>\n",
              "      <td>0</td>\n",
              "      <td>0</td>\n",
              "      <td>...</td>\n",
              "      <td>0</td>\n",
              "      <td>0</td>\n",
              "      <td>0</td>\n",
              "      <td>0</td>\n",
              "      <td>0</td>\n",
              "      <td>0</td>\n",
              "      <td>0</td>\n",
              "      <td>0</td>\n",
              "      <td>0</td>\n",
              "      <td>0</td>\n",
              "      <td>0</td>\n",
              "      <td>0</td>\n",
              "      <td>0</td>\n",
              "      <td>0</td>\n",
              "      <td>0</td>\n",
              "      <td>0</td>\n",
              "      <td>0</td>\n",
              "      <td>0</td>\n",
              "      <td>0</td>\n",
              "      <td>0</td>\n",
              "      <td>0</td>\n",
              "      <td>0</td>\n",
              "      <td>0</td>\n",
              "      <td>0</td>\n",
              "      <td>0</td>\n",
              "      <td>0</td>\n",
              "      <td>0</td>\n",
              "      <td>0</td>\n",
              "      <td>0</td>\n",
              "      <td>0</td>\n",
              "      <td>0</td>\n",
              "      <td>0</td>\n",
              "      <td>0</td>\n",
              "      <td>0</td>\n",
              "      <td>0</td>\n",
              "      <td>0</td>\n",
              "      <td>0</td>\n",
              "      <td>0</td>\n",
              "      <td>0</td>\n",
              "      <td>0</td>\n",
              "    </tr>\n",
              "    <tr>\n",
              "      <th>1</th>\n",
              "      <td>9</td>\n",
              "      <td>0</td>\n",
              "      <td>0</td>\n",
              "      <td>0</td>\n",
              "      <td>0</td>\n",
              "      <td>0</td>\n",
              "      <td>0</td>\n",
              "      <td>0</td>\n",
              "      <td>0</td>\n",
              "      <td>0</td>\n",
              "      <td>0</td>\n",
              "      <td>0</td>\n",
              "      <td>0</td>\n",
              "      <td>0</td>\n",
              "      <td>0</td>\n",
              "      <td>0</td>\n",
              "      <td>0</td>\n",
              "      <td>0</td>\n",
              "      <td>0</td>\n",
              "      <td>0</td>\n",
              "      <td>0</td>\n",
              "      <td>0</td>\n",
              "      <td>0</td>\n",
              "      <td>0</td>\n",
              "      <td>0</td>\n",
              "      <td>0</td>\n",
              "      <td>0</td>\n",
              "      <td>0</td>\n",
              "      <td>0</td>\n",
              "      <td>0</td>\n",
              "      <td>0</td>\n",
              "      <td>0</td>\n",
              "      <td>0</td>\n",
              "      <td>0</td>\n",
              "      <td>0</td>\n",
              "      <td>0</td>\n",
              "      <td>0</td>\n",
              "      <td>0</td>\n",
              "      <td>0</td>\n",
              "      <td>0</td>\n",
              "      <td>...</td>\n",
              "      <td>0</td>\n",
              "      <td>0</td>\n",
              "      <td>0</td>\n",
              "      <td>0</td>\n",
              "      <td>0</td>\n",
              "      <td>0</td>\n",
              "      <td>0</td>\n",
              "      <td>0</td>\n",
              "      <td>0</td>\n",
              "      <td>0</td>\n",
              "      <td>0</td>\n",
              "      <td>0</td>\n",
              "      <td>0</td>\n",
              "      <td>0</td>\n",
              "      <td>0</td>\n",
              "      <td>0</td>\n",
              "      <td>0</td>\n",
              "      <td>0</td>\n",
              "      <td>0</td>\n",
              "      <td>0</td>\n",
              "      <td>0</td>\n",
              "      <td>0</td>\n",
              "      <td>0</td>\n",
              "      <td>0</td>\n",
              "      <td>0</td>\n",
              "      <td>0</td>\n",
              "      <td>0</td>\n",
              "      <td>0</td>\n",
              "      <td>0</td>\n",
              "      <td>0</td>\n",
              "      <td>0</td>\n",
              "      <td>0</td>\n",
              "      <td>0</td>\n",
              "      <td>0</td>\n",
              "      <td>0</td>\n",
              "      <td>0</td>\n",
              "      <td>0</td>\n",
              "      <td>0</td>\n",
              "      <td>0</td>\n",
              "      <td>0</td>\n",
              "    </tr>\n",
              "    <tr>\n",
              "      <th>2</th>\n",
              "      <td>6</td>\n",
              "      <td>0</td>\n",
              "      <td>0</td>\n",
              "      <td>0</td>\n",
              "      <td>0</td>\n",
              "      <td>0</td>\n",
              "      <td>0</td>\n",
              "      <td>0</td>\n",
              "      <td>5</td>\n",
              "      <td>0</td>\n",
              "      <td>0</td>\n",
              "      <td>0</td>\n",
              "      <td>105</td>\n",
              "      <td>92</td>\n",
              "      <td>101</td>\n",
              "      <td>107</td>\n",
              "      <td>100</td>\n",
              "      <td>132</td>\n",
              "      <td>0</td>\n",
              "      <td>0</td>\n",
              "      <td>2</td>\n",
              "      <td>4</td>\n",
              "      <td>0</td>\n",
              "      <td>1</td>\n",
              "      <td>0</td>\n",
              "      <td>0</td>\n",
              "      <td>0</td>\n",
              "      <td>0</td>\n",
              "      <td>0</td>\n",
              "      <td>0</td>\n",
              "      <td>0</td>\n",
              "      <td>0</td>\n",
              "      <td>0</td>\n",
              "      <td>0</td>\n",
              "      <td>0</td>\n",
              "      <td>0</td>\n",
              "      <td>0</td>\n",
              "      <td>0</td>\n",
              "      <td>0</td>\n",
              "      <td>150</td>\n",
              "      <td>...</td>\n",
              "      <td>211</td>\n",
              "      <td>220</td>\n",
              "      <td>214</td>\n",
              "      <td>74</td>\n",
              "      <td>0</td>\n",
              "      <td>255</td>\n",
              "      <td>222</td>\n",
              "      <td>128</td>\n",
              "      <td>0</td>\n",
              "      <td>0</td>\n",
              "      <td>0</td>\n",
              "      <td>0</td>\n",
              "      <td>0</td>\n",
              "      <td>0</td>\n",
              "      <td>0</td>\n",
              "      <td>0</td>\n",
              "      <td>0</td>\n",
              "      <td>44</td>\n",
              "      <td>12</td>\n",
              "      <td>0</td>\n",
              "      <td>0</td>\n",
              "      <td>40</td>\n",
              "      <td>134</td>\n",
              "      <td>162</td>\n",
              "      <td>191</td>\n",
              "      <td>214</td>\n",
              "      <td>163</td>\n",
              "      <td>146</td>\n",
              "      <td>165</td>\n",
              "      <td>79</td>\n",
              "      <td>0</td>\n",
              "      <td>0</td>\n",
              "      <td>0</td>\n",
              "      <td>30</td>\n",
              "      <td>43</td>\n",
              "      <td>0</td>\n",
              "      <td>0</td>\n",
              "      <td>0</td>\n",
              "      <td>0</td>\n",
              "      <td>0</td>\n",
              "    </tr>\n",
              "    <tr>\n",
              "      <th>3</th>\n",
              "      <td>0</td>\n",
              "      <td>0</td>\n",
              "      <td>0</td>\n",
              "      <td>0</td>\n",
              "      <td>1</td>\n",
              "      <td>2</td>\n",
              "      <td>0</td>\n",
              "      <td>0</td>\n",
              "      <td>0</td>\n",
              "      <td>0</td>\n",
              "      <td>0</td>\n",
              "      <td>114</td>\n",
              "      <td>183</td>\n",
              "      <td>112</td>\n",
              "      <td>55</td>\n",
              "      <td>23</td>\n",
              "      <td>72</td>\n",
              "      <td>102</td>\n",
              "      <td>165</td>\n",
              "      <td>160</td>\n",
              "      <td>28</td>\n",
              "      <td>0</td>\n",
              "      <td>0</td>\n",
              "      <td>0</td>\n",
              "      <td>1</td>\n",
              "      <td>0</td>\n",
              "      <td>0</td>\n",
              "      <td>0</td>\n",
              "      <td>0</td>\n",
              "      <td>0</td>\n",
              "      <td>0</td>\n",
              "      <td>0</td>\n",
              "      <td>0</td>\n",
              "      <td>1</td>\n",
              "      <td>0</td>\n",
              "      <td>0</td>\n",
              "      <td>24</td>\n",
              "      <td>188</td>\n",
              "      <td>163</td>\n",
              "      <td>93</td>\n",
              "      <td>...</td>\n",
              "      <td>171</td>\n",
              "      <td>249</td>\n",
              "      <td>207</td>\n",
              "      <td>197</td>\n",
              "      <td>202</td>\n",
              "      <td>45</td>\n",
              "      <td>0</td>\n",
              "      <td>3</td>\n",
              "      <td>0</td>\n",
              "      <td>0</td>\n",
              "      <td>0</td>\n",
              "      <td>0</td>\n",
              "      <td>0</td>\n",
              "      <td>0</td>\n",
              "      <td>0</td>\n",
              "      <td>0</td>\n",
              "      <td>0</td>\n",
              "      <td>0</td>\n",
              "      <td>1</td>\n",
              "      <td>0</td>\n",
              "      <td>0</td>\n",
              "      <td>0</td>\n",
              "      <td>22</td>\n",
              "      <td>21</td>\n",
              "      <td>25</td>\n",
              "      <td>69</td>\n",
              "      <td>52</td>\n",
              "      <td>45</td>\n",
              "      <td>74</td>\n",
              "      <td>39</td>\n",
              "      <td>3</td>\n",
              "      <td>0</td>\n",
              "      <td>0</td>\n",
              "      <td>0</td>\n",
              "      <td>0</td>\n",
              "      <td>1</td>\n",
              "      <td>0</td>\n",
              "      <td>0</td>\n",
              "      <td>0</td>\n",
              "      <td>0</td>\n",
              "    </tr>\n",
              "    <tr>\n",
              "      <th>4</th>\n",
              "      <td>3</td>\n",
              "      <td>0</td>\n",
              "      <td>0</td>\n",
              "      <td>0</td>\n",
              "      <td>0</td>\n",
              "      <td>0</td>\n",
              "      <td>0</td>\n",
              "      <td>0</td>\n",
              "      <td>0</td>\n",
              "      <td>0</td>\n",
              "      <td>0</td>\n",
              "      <td>0</td>\n",
              "      <td>0</td>\n",
              "      <td>46</td>\n",
              "      <td>0</td>\n",
              "      <td>21</td>\n",
              "      <td>68</td>\n",
              "      <td>0</td>\n",
              "      <td>0</td>\n",
              "      <td>0</td>\n",
              "      <td>0</td>\n",
              "      <td>0</td>\n",
              "      <td>0</td>\n",
              "      <td>0</td>\n",
              "      <td>0</td>\n",
              "      <td>0</td>\n",
              "      <td>0</td>\n",
              "      <td>0</td>\n",
              "      <td>0</td>\n",
              "      <td>0</td>\n",
              "      <td>0</td>\n",
              "      <td>0</td>\n",
              "      <td>0</td>\n",
              "      <td>0</td>\n",
              "      <td>0</td>\n",
              "      <td>0</td>\n",
              "      <td>0</td>\n",
              "      <td>25</td>\n",
              "      <td>187</td>\n",
              "      <td>189</td>\n",
              "      <td>...</td>\n",
              "      <td>230</td>\n",
              "      <td>237</td>\n",
              "      <td>229</td>\n",
              "      <td>0</td>\n",
              "      <td>0</td>\n",
              "      <td>1</td>\n",
              "      <td>0</td>\n",
              "      <td>0</td>\n",
              "      <td>0</td>\n",
              "      <td>0</td>\n",
              "      <td>0</td>\n",
              "      <td>0</td>\n",
              "      <td>0</td>\n",
              "      <td>0</td>\n",
              "      <td>0</td>\n",
              "      <td>0</td>\n",
              "      <td>0</td>\n",
              "      <td>0</td>\n",
              "      <td>0</td>\n",
              "      <td>0</td>\n",
              "      <td>0</td>\n",
              "      <td>68</td>\n",
              "      <td>116</td>\n",
              "      <td>112</td>\n",
              "      <td>136</td>\n",
              "      <td>147</td>\n",
              "      <td>144</td>\n",
              "      <td>121</td>\n",
              "      <td>102</td>\n",
              "      <td>63</td>\n",
              "      <td>0</td>\n",
              "      <td>0</td>\n",
              "      <td>0</td>\n",
              "      <td>0</td>\n",
              "      <td>0</td>\n",
              "      <td>0</td>\n",
              "      <td>0</td>\n",
              "      <td>0</td>\n",
              "      <td>0</td>\n",
              "      <td>0</td>\n",
              "    </tr>\n",
              "  </tbody>\n",
              "</table>\n",
              "<p>5 rows × 785 columns</p>\n",
              "</div>"
            ],
            "text/plain": [
              "   label  pixel1  pixel2  pixel3  ...  pixel781  pixel782  pixel783  pixel784\n",
              "0      2       0       0       0  ...         0         0         0         0\n",
              "1      9       0       0       0  ...         0         0         0         0\n",
              "2      6       0       0       0  ...         0         0         0         0\n",
              "3      0       0       0       0  ...         0         0         0         0\n",
              "4      3       0       0       0  ...         0         0         0         0\n",
              "\n",
              "[5 rows x 785 columns]"
            ]
          },
          "metadata": {
            "tags": []
          },
          "execution_count": 3
        }
      ]
    },
    {
      "cell_type": "code",
      "metadata": {
        "id": "88xwNEm9Eq7Z"
      },
      "source": [
        "X_train = train.drop(columns = 'label')/255\n",
        "X_test = test.drop(columns = 'label')/255\n",
        "y_train = train['label']\n",
        "y_test = test['label']"
      ],
      "execution_count": null,
      "outputs": []
    },
    {
      "cell_type": "code",
      "metadata": {
        "id": "dluto_g6FY4f"
      },
      "source": [
        "X_train, X_val, y_train, y_val = train_test_split(X_train, y_train, test_size = 0.2, random_state = 12345)"
      ],
      "execution_count": null,
      "outputs": []
    },
    {
      "cell_type": "code",
      "metadata": {
        "colab": {
          "base_uri": "https://localhost:8080/"
        },
        "id": "3h2UBAJUG4Fn",
        "outputId": "3de59563-000b-4e59-d717-da78ef712af8"
      },
      "source": [
        "X_train.shape"
      ],
      "execution_count": null,
      "outputs": [
        {
          "output_type": "execute_result",
          "data": {
            "text/plain": [
              "(48000, 784)"
            ]
          },
          "metadata": {
            "tags": []
          },
          "execution_count": 6
        }
      ]
    },
    {
      "cell_type": "code",
      "metadata": {
        "colab": {
          "base_uri": "https://localhost:8080/",
          "height": 281
        },
        "id": "RGCd-GQQG8lf",
        "outputId": "dd058782-504e-45dc-c5d9-92e37fa0d673"
      },
      "source": [
        "class_names = {0: 'T-shirt/top', 1: 'Trouser', 2: 'Pullover', 3: 'Dress', 4: 'Coat',\n",
        "               5: 'Sandal', 6: 'Shirt', 7: 'Sneaker', 8: 'Bag', 9: 'Ankle boot'}\n",
        "\n",
        "plt.imshow(np.array(X_train.loc[0, :]).reshape(28, 28))\n",
        "plt.title('{}'.format(class_names[y_train[0]]));"
      ],
      "execution_count": null,
      "outputs": [
        {
          "output_type": "display_data",
          "data": {
            "image/png": "[encoded data removed]",
            "text/plain": [
              "<Figure size 432x288 with 1 Axes>"
            ]
          },
          "metadata": {
            "tags": [],
            "needs_background": "light"
          }
        }
      ]
    },
    {
      "cell_type": "code",
      "metadata": {
        "colab": {
          "base_uri": "https://localhost:8080/",
          "height": 281
        },
        "id": "aoI_HfqpI21R",
        "outputId": "c5334bd0-6706-4f9a-af93-9968abd5bf1c"
      },
      "source": [
        "plt.imshow(np.array(X_train.loc[1, :]).reshape(28, 28))\n",
        "plt.title('{}'.format(class_names[y_train[1]]));"
      ],
      "execution_count": null,
      "outputs": [
        {
          "output_type": "display_data",
          "data": {
            "image/png": "[encoded data removed]",
            "text/plain": [
              "<Figure size 432x288 with 1 Axes>"
            ]
          },
          "metadata": {
            "tags": [],
            "needs_background": "light"
          }
        }
      ]
    },
    {
      "cell_type": "code",
      "metadata": {
        "colab": {
          "base_uri": "https://localhost:8080/",
          "height": 281
        },
        "id": "ttPX8-8rI5rt",
        "outputId": "3d8f5494-ae3d-4925-fce7-61cc1c81ca5f"
      },
      "source": [
        "plt.imshow(np.array(X_train.loc[20, :]).reshape(28, 28))\n",
        "plt.title('{}'.format(class_names[y_train[20]]));"
      ],
      "execution_count": null,
      "outputs": [
        {
          "output_type": "display_data",
          "data": {
            "image/png": "[encoded data removed]",
            "text/plain": [
              "<Figure size 432x288 with 1 Axes>"
            ]
          },
          "metadata": {
            "tags": [],
            "needs_background": "light"
          }
        }
      ]
    },
    {
      "cell_type": "code",
      "metadata": {
        "id": "0OVsTjwpLFzR"
      },
      "source": [
        "X_train = np.array(X_train).reshape(X_train.shape[0], 28, 28, 1)\n",
        "X_val = np.array(X_val).reshape(X_val.shape[0], 28, 28, 1)"
      ],
      "execution_count": null,
      "outputs": []
    },
    {
      "cell_type": "code",
      "metadata": {
        "id": "S_46UI2jLFwA"
      },
      "source": [
        "y_train = to_categorical(y_train, num_classes = 10)\n",
        "y_val = to_categorical(y_val, num_classes = 10)"
      ],
      "execution_count": null,
      "outputs": []
    },
    {
      "cell_type": "code",
      "metadata": {
        "colab": {
          "base_uri": "https://localhost:8080/"
        },
        "id": "qNBRwM7OLepT",
        "outputId": "b7d3318c-356f-43a8-92e3-57bffd75e1c6"
      },
      "source": [
        "input_shape = X_train.shape[1:4]\n",
        "input_shape"
      ],
      "execution_count": null,
      "outputs": [
        {
          "output_type": "execute_result",
          "data": {
            "text/plain": [
              "(28, 28, 1)"
            ]
          },
          "metadata": {
            "tags": []
          },
          "execution_count": 12
        }
      ]
    },
    {
      "cell_type": "code",
      "metadata": {
        "id": "KKsiygwqLeZa"
      },
      "source": [
        "model = Sequential()"
      ],
      "execution_count": null,
      "outputs": []
    },
    {
      "cell_type": "code",
      "metadata": {
        "id": "fq-1ODNULeWs"
      },
      "source": [
        "model.add(Conv2D(filters = 32,\n",
        "                 kernel_size = 3,\n",
        "                 activation = 'relu',\n",
        "                 input_shape = input_shape))\n",
        "model.add(MaxPooling2D(pool_size = 2))\n",
        "Dropout(0.2)\n",
        "model.add(Flatten())\n",
        "model.add(Dense(10,\n",
        "                activation = 'softmax'))"
      ],
      "execution_count": null,
      "outputs": []
    },
    {
      "cell_type": "code",
      "metadata": {
        "id": "NgjRP0lTMII-"
      },
      "source": [
        "model.compile(loss = 'categorical_crossentropy', optimizer = 'adam', metrics = ['acc'])"
      ],
      "execution_count": null,
      "outputs": []
    },
    {
      "cell_type": "code",
      "metadata": {
        "colab": {
          "base_uri": "https://localhost:8080/"
        },
        "id": "_weppjlDMH8N",
        "outputId": "33f4fcc8-a419-48b9-f585-807d1e582fbd"
      },
      "source": [
        "history = model.fit(X_train, y_train,\n",
        "                    validation_data = (X_val, y_val), \n",
        "                    batch_size = 4096,\n",
        "                    epochs=100)"
      ],
      "execution_count": null,
      "outputs": [
        {
          "output_type": "stream",
          "text": [
            "Epoch 1/100\n",
            "12/12 [==============================] - 8s 91ms/step - loss: 2.0156 - acc: 0.3618 - val_loss: 1.2203 - val_acc: 0.6727\n",
            "Epoch 2/100\n",
            "12/12 [==============================] - 1s 44ms/step - loss: 1.0804 - acc: 0.6895 - val_loss: 0.7970 - val_acc: 0.7429\n",
            "Epoch 3/100\n",
            "12/12 [==============================] - 1s 54ms/step - loss: 0.7610 - acc: 0.7470 - val_loss: 0.6669 - val_acc: 0.7686\n",
            "Epoch 4/100\n",
            "12/12 [==============================] - 1s 44ms/step - loss: 0.6568 - acc: 0.7723 - val_loss: 0.6049 - val_acc: 0.7870\n",
            "Epoch 5/100\n",
            "12/12 [==============================] - 1s 43ms/step - loss: 0.5946 - acc: 0.7932 - val_loss: 0.5607 - val_acc: 0.8048\n",
            "Epoch 6/100\n",
            "12/12 [==============================] - 1s 44ms/step - loss: 0.5486 - acc: 0.8120 - val_loss: 0.5268 - val_acc: 0.8207\n",
            "Epoch 7/100\n",
            "12/12 [==============================] - 1s 45ms/step - loss: 0.5160 - acc: 0.8250 - val_loss: 0.5011 - val_acc: 0.8298\n",
            "Epoch 8/100\n",
            "12/12 [==============================] - 1s 44ms/step - loss: 0.4894 - acc: 0.8331 - val_loss: 0.4793 - val_acc: 0.8339\n",
            "Epoch 9/100\n",
            "12/12 [==============================] - 1s 43ms/step - loss: 0.4667 - acc: 0.8397 - val_loss: 0.4620 - val_acc: 0.8398\n",
            "Epoch 10/100\n",
            "12/12 [==============================] - 1s 44ms/step - loss: 0.4538 - acc: 0.8466 - val_loss: 0.4484 - val_acc: 0.8449\n",
            "Epoch 11/100\n",
            "12/12 [==============================] - 1s 43ms/step - loss: 0.4478 - acc: 0.8443 - val_loss: 0.4348 - val_acc: 0.8518\n",
            "Epoch 12/100\n",
            "12/12 [==============================] - 1s 46ms/step - loss: 0.4284 - acc: 0.8522 - val_loss: 0.4256 - val_acc: 0.8552\n",
            "Epoch 13/100\n",
            "12/12 [==============================] - 1s 43ms/step - loss: 0.4168 - acc: 0.8569 - val_loss: 0.4157 - val_acc: 0.8574\n",
            "Epoch 14/100\n",
            "12/12 [==============================] - 1s 45ms/step - loss: 0.4092 - acc: 0.8604 - val_loss: 0.4101 - val_acc: 0.8592\n",
            "Epoch 15/100\n",
            "12/12 [==============================] - 1s 46ms/step - loss: 0.4041 - acc: 0.8616 - val_loss: 0.4008 - val_acc: 0.8626\n",
            "Epoch 16/100\n",
            "12/12 [==============================] - 1s 44ms/step - loss: 0.3943 - acc: 0.8643 - val_loss: 0.3962 - val_acc: 0.8636\n",
            "Epoch 17/100\n",
            "12/12 [==============================] - 1s 44ms/step - loss: 0.3890 - acc: 0.8650 - val_loss: 0.3911 - val_acc: 0.8664\n",
            "Epoch 18/100\n",
            "12/12 [==============================] - 1s 45ms/step - loss: 0.3837 - acc: 0.8673 - val_loss: 0.3819 - val_acc: 0.8710\n",
            "Epoch 19/100\n",
            "12/12 [==============================] - 1s 45ms/step - loss: 0.3737 - acc: 0.8703 - val_loss: 0.3786 - val_acc: 0.8712\n",
            "Epoch 20/100\n",
            "12/12 [==============================] - 1s 45ms/step - loss: 0.3669 - acc: 0.8748 - val_loss: 0.3738 - val_acc: 0.8723\n",
            "Epoch 21/100\n",
            "12/12 [==============================] - 1s 44ms/step - loss: 0.3641 - acc: 0.8738 - val_loss: 0.3710 - val_acc: 0.8739\n",
            "Epoch 22/100\n",
            "12/12 [==============================] - 1s 44ms/step - loss: 0.3594 - acc: 0.8750 - val_loss: 0.3650 - val_acc: 0.8750\n",
            "Epoch 23/100\n",
            "12/12 [==============================] - 1s 44ms/step - loss: 0.3572 - acc: 0.8770 - val_loss: 0.3654 - val_acc: 0.8744\n",
            "Epoch 24/100\n",
            "12/12 [==============================] - 1s 45ms/step - loss: 0.3550 - acc: 0.8774 - val_loss: 0.3595 - val_acc: 0.8775\n",
            "Epoch 25/100\n",
            "12/12 [==============================] - 1s 44ms/step - loss: 0.3530 - acc: 0.8782 - val_loss: 0.3572 - val_acc: 0.8775\n",
            "Epoch 26/100\n",
            "12/12 [==============================] - 1s 44ms/step - loss: 0.3485 - acc: 0.8810 - val_loss: 0.3589 - val_acc: 0.8769\n",
            "Epoch 27/100\n",
            "12/12 [==============================] - 1s 44ms/step - loss: 0.3485 - acc: 0.8798 - val_loss: 0.3490 - val_acc: 0.8802\n",
            "Epoch 28/100\n",
            "12/12 [==============================] - 1s 43ms/step - loss: 0.3408 - acc: 0.8826 - val_loss: 0.3467 - val_acc: 0.8808\n",
            "Epoch 29/100\n",
            "12/12 [==============================] - 1s 44ms/step - loss: 0.3361 - acc: 0.8852 - val_loss: 0.3438 - val_acc: 0.8817\n",
            "Epoch 30/100\n",
            "12/12 [==============================] - 1s 45ms/step - loss: 0.3317 - acc: 0.8856 - val_loss: 0.3428 - val_acc: 0.8832\n",
            "Epoch 31/100\n",
            "12/12 [==============================] - 1s 45ms/step - loss: 0.3283 - acc: 0.8869 - val_loss: 0.3400 - val_acc: 0.8848\n",
            "Epoch 32/100\n",
            "12/12 [==============================] - 1s 44ms/step - loss: 0.3277 - acc: 0.8875 - val_loss: 0.3396 - val_acc: 0.8820\n",
            "Epoch 33/100\n",
            "12/12 [==============================] - 1s 44ms/step - loss: 0.3270 - acc: 0.8867 - val_loss: 0.3366 - val_acc: 0.8842\n",
            "Epoch 34/100\n",
            "12/12 [==============================] - 1s 44ms/step - loss: 0.3229 - acc: 0.8890 - val_loss: 0.3346 - val_acc: 0.8848\n",
            "Epoch 35/100\n",
            "12/12 [==============================] - 1s 44ms/step - loss: 0.3144 - acc: 0.8908 - val_loss: 0.3327 - val_acc: 0.8844\n",
            "Epoch 36/100\n",
            "12/12 [==============================] - 1s 44ms/step - loss: 0.3172 - acc: 0.8898 - val_loss: 0.3305 - val_acc: 0.8850\n",
            "Epoch 37/100\n",
            "12/12 [==============================] - 1s 44ms/step - loss: 0.3131 - acc: 0.8919 - val_loss: 0.3271 - val_acc: 0.8867\n",
            "Epoch 38/100\n",
            "12/12 [==============================] - 1s 42ms/step - loss: 0.3125 - acc: 0.8919 - val_loss: 0.3255 - val_acc: 0.8881\n",
            "Epoch 39/100\n",
            "12/12 [==============================] - 1s 44ms/step - loss: 0.3079 - acc: 0.8926 - val_loss: 0.3233 - val_acc: 0.8888\n",
            "Epoch 40/100\n",
            "12/12 [==============================] - 1s 43ms/step - loss: 0.3044 - acc: 0.8940 - val_loss: 0.3228 - val_acc: 0.8881\n",
            "Epoch 41/100\n",
            "12/12 [==============================] - 1s 44ms/step - loss: 0.3063 - acc: 0.8942 - val_loss: 0.3226 - val_acc: 0.8877\n",
            "Epoch 42/100\n",
            "12/12 [==============================] - 1s 44ms/step - loss: 0.3023 - acc: 0.8955 - val_loss: 0.3189 - val_acc: 0.8893\n",
            "Epoch 43/100\n",
            "12/12 [==============================] - 1s 43ms/step - loss: 0.3013 - acc: 0.8942 - val_loss: 0.3179 - val_acc: 0.8902\n",
            "Epoch 44/100\n",
            "12/12 [==============================] - 1s 44ms/step - loss: 0.2968 - acc: 0.8959 - val_loss: 0.3173 - val_acc: 0.8906\n",
            "Epoch 45/100\n",
            "12/12 [==============================] - 1s 44ms/step - loss: 0.2946 - acc: 0.8978 - val_loss: 0.3150 - val_acc: 0.8912\n",
            "Epoch 46/100\n",
            "12/12 [==============================] - 1s 45ms/step - loss: 0.2987 - acc: 0.8966 - val_loss: 0.3141 - val_acc: 0.8906\n",
            "Epoch 47/100\n",
            "12/12 [==============================] - 1s 45ms/step - loss: 0.2977 - acc: 0.8969 - val_loss: 0.3121 - val_acc: 0.8925\n",
            "Epoch 48/100\n",
            "12/12 [==============================] - 1s 45ms/step - loss: 0.2923 - acc: 0.8993 - val_loss: 0.3141 - val_acc: 0.8896\n",
            "Epoch 49/100\n",
            "12/12 [==============================] - 1s 44ms/step - loss: 0.2925 - acc: 0.8967 - val_loss: 0.3113 - val_acc: 0.8907\n",
            "Epoch 50/100\n",
            "12/12 [==============================] - 1s 44ms/step - loss: 0.2925 - acc: 0.8979 - val_loss: 0.3086 - val_acc: 0.8943\n",
            "Epoch 51/100\n",
            "12/12 [==============================] - 1s 45ms/step - loss: 0.2900 - acc: 0.8979 - val_loss: 0.3073 - val_acc: 0.8926\n",
            "Epoch 52/100\n",
            "12/12 [==============================] - 1s 44ms/step - loss: 0.2866 - acc: 0.8996 - val_loss: 0.3075 - val_acc: 0.8936\n",
            "Epoch 53/100\n",
            "12/12 [==============================] - 1s 45ms/step - loss: 0.2866 - acc: 0.8990 - val_loss: 0.3060 - val_acc: 0.8932\n",
            "Epoch 54/100\n",
            "12/12 [==============================] - 1s 44ms/step - loss: 0.2809 - acc: 0.9022 - val_loss: 0.3063 - val_acc: 0.8922\n",
            "Epoch 55/100\n",
            "12/12 [==============================] - 1s 44ms/step - loss: 0.2858 - acc: 0.9017 - val_loss: 0.3040 - val_acc: 0.8958\n",
            "Epoch 56/100\n",
            "12/12 [==============================] - 1s 45ms/step - loss: 0.2855 - acc: 0.9006 - val_loss: 0.3036 - val_acc: 0.8953\n",
            "Epoch 57/100\n",
            "12/12 [==============================] - 1s 52ms/step - loss: 0.2810 - acc: 0.9003 - val_loss: 0.3014 - val_acc: 0.8960\n",
            "Epoch 58/100\n",
            "12/12 [==============================] - 1s 45ms/step - loss: 0.2762 - acc: 0.9038 - val_loss: 0.3000 - val_acc: 0.8964\n",
            "Epoch 59/100\n",
            "12/12 [==============================] - 1s 44ms/step - loss: 0.2754 - acc: 0.9048 - val_loss: 0.3006 - val_acc: 0.8943\n",
            "Epoch 60/100\n",
            "12/12 [==============================] - 1s 45ms/step - loss: 0.2741 - acc: 0.9032 - val_loss: 0.2996 - val_acc: 0.8965\n",
            "Epoch 61/100\n",
            "12/12 [==============================] - 1s 44ms/step - loss: 0.2754 - acc: 0.9041 - val_loss: 0.2992 - val_acc: 0.8957\n",
            "Epoch 62/100\n",
            "12/12 [==============================] - 1s 45ms/step - loss: 0.2736 - acc: 0.9031 - val_loss: 0.2966 - val_acc: 0.8971\n",
            "Epoch 63/100\n",
            "12/12 [==============================] - 1s 44ms/step - loss: 0.2711 - acc: 0.9043 - val_loss: 0.2977 - val_acc: 0.8958\n",
            "Epoch 64/100\n",
            "12/12 [==============================] - 1s 44ms/step - loss: 0.2630 - acc: 0.9078 - val_loss: 0.2959 - val_acc: 0.8967\n",
            "Epoch 65/100\n",
            "12/12 [==============================] - 1s 45ms/step - loss: 0.2695 - acc: 0.9066 - val_loss: 0.2940 - val_acc: 0.8982\n",
            "Epoch 66/100\n",
            "12/12 [==============================] - 1s 45ms/step - loss: 0.2682 - acc: 0.9054 - val_loss: 0.2938 - val_acc: 0.8984\n",
            "Epoch 67/100\n",
            "12/12 [==============================] - 1s 44ms/step - loss: 0.2667 - acc: 0.9054 - val_loss: 0.2931 - val_acc: 0.8999\n",
            "Epoch 68/100\n",
            "12/12 [==============================] - 1s 45ms/step - loss: 0.2682 - acc: 0.9075 - val_loss: 0.2932 - val_acc: 0.8982\n",
            "Epoch 69/100\n",
            "12/12 [==============================] - 1s 44ms/step - loss: 0.2663 - acc: 0.9071 - val_loss: 0.2935 - val_acc: 0.8976\n",
            "Epoch 70/100\n",
            "12/12 [==============================] - 1s 44ms/step - loss: 0.2634 - acc: 0.9069 - val_loss: 0.3004 - val_acc: 0.8960\n",
            "Epoch 71/100\n",
            "12/12 [==============================] - 1s 45ms/step - loss: 0.2628 - acc: 0.9068 - val_loss: 0.2937 - val_acc: 0.8973\n",
            "Epoch 72/100\n",
            "12/12 [==============================] - 1s 45ms/step - loss: 0.2621 - acc: 0.9080 - val_loss: 0.2894 - val_acc: 0.9007\n",
            "Epoch 73/100\n",
            "12/12 [==============================] - 1s 44ms/step - loss: 0.2603 - acc: 0.9096 - val_loss: 0.2886 - val_acc: 0.9012\n",
            "Epoch 74/100\n",
            "12/12 [==============================] - 1s 44ms/step - loss: 0.2621 - acc: 0.9085 - val_loss: 0.2881 - val_acc: 0.8999\n",
            "Epoch 75/100\n",
            "12/12 [==============================] - 1s 45ms/step - loss: 0.2562 - acc: 0.9099 - val_loss: 0.2898 - val_acc: 0.8993\n",
            "Epoch 76/100\n",
            "12/12 [==============================] - 1s 44ms/step - loss: 0.2587 - acc: 0.9102 - val_loss: 0.2932 - val_acc: 0.8992\n",
            "Epoch 77/100\n",
            "12/12 [==============================] - 1s 44ms/step - loss: 0.2610 - acc: 0.9098 - val_loss: 0.2870 - val_acc: 0.9001\n",
            "Epoch 78/100\n",
            "12/12 [==============================] - 1s 45ms/step - loss: 0.2495 - acc: 0.9113 - val_loss: 0.2863 - val_acc: 0.8998\n",
            "Epoch 79/100\n",
            "12/12 [==============================] - 1s 45ms/step - loss: 0.2542 - acc: 0.9109 - val_loss: 0.2863 - val_acc: 0.8995\n",
            "Epoch 80/100\n",
            "12/12 [==============================] - 1s 43ms/step - loss: 0.2553 - acc: 0.9098 - val_loss: 0.2850 - val_acc: 0.9007\n",
            "Epoch 81/100\n",
            "12/12 [==============================] - 1s 45ms/step - loss: 0.2543 - acc: 0.9103 - val_loss: 0.2856 - val_acc: 0.9005\n",
            "Epoch 82/100\n",
            "12/12 [==============================] - 1s 45ms/step - loss: 0.2508 - acc: 0.9122 - val_loss: 0.2830 - val_acc: 0.9018\n",
            "Epoch 83/100\n",
            "12/12 [==============================] - 1s 44ms/step - loss: 0.2473 - acc: 0.9130 - val_loss: 0.2830 - val_acc: 0.9021\n",
            "Epoch 84/100\n",
            "12/12 [==============================] - 1s 45ms/step - loss: 0.2497 - acc: 0.9134 - val_loss: 0.2818 - val_acc: 0.9033\n",
            "Epoch 85/100\n",
            "12/12 [==============================] - 1s 45ms/step - loss: 0.2467 - acc: 0.9145 - val_loss: 0.2838 - val_acc: 0.9007\n",
            "Epoch 86/100\n",
            "12/12 [==============================] - 1s 45ms/step - loss: 0.2459 - acc: 0.9140 - val_loss: 0.2813 - val_acc: 0.9032\n",
            "Epoch 87/100\n",
            "12/12 [==============================] - 1s 45ms/step - loss: 0.2455 - acc: 0.9156 - val_loss: 0.2816 - val_acc: 0.9032\n",
            "Epoch 88/100\n",
            "12/12 [==============================] - 1s 44ms/step - loss: 0.2483 - acc: 0.9139 - val_loss: 0.2800 - val_acc: 0.9044\n",
            "Epoch 89/100\n",
            "12/12 [==============================] - 1s 45ms/step - loss: 0.2409 - acc: 0.9158 - val_loss: 0.2803 - val_acc: 0.9018\n",
            "Epoch 90/100\n",
            "12/12 [==============================] - 1s 44ms/step - loss: 0.2482 - acc: 0.9134 - val_loss: 0.2807 - val_acc: 0.9021\n",
            "Epoch 91/100\n",
            "12/12 [==============================] - 1s 44ms/step - loss: 0.2425 - acc: 0.9153 - val_loss: 0.2789 - val_acc: 0.9030\n",
            "Epoch 92/100\n",
            "12/12 [==============================] - 1s 44ms/step - loss: 0.2397 - acc: 0.9174 - val_loss: 0.2801 - val_acc: 0.9025\n",
            "Epoch 93/100\n",
            "12/12 [==============================] - 1s 45ms/step - loss: 0.2418 - acc: 0.9153 - val_loss: 0.2787 - val_acc: 0.9029\n",
            "Epoch 94/100\n",
            "12/12 [==============================] - 1s 44ms/step - loss: 0.2422 - acc: 0.9149 - val_loss: 0.2809 - val_acc: 0.9014\n",
            "Epoch 95/100\n",
            "12/12 [==============================] - 1s 44ms/step - loss: 0.2420 - acc: 0.9155 - val_loss: 0.2768 - val_acc: 0.9033\n",
            "Epoch 96/100\n",
            "12/12 [==============================] - 1s 46ms/step - loss: 0.2406 - acc: 0.9163 - val_loss: 0.2780 - val_acc: 0.9025\n",
            "Epoch 97/100\n",
            "12/12 [==============================] - 1s 45ms/step - loss: 0.2393 - acc: 0.9164 - val_loss: 0.2777 - val_acc: 0.9032\n",
            "Epoch 98/100\n",
            "12/12 [==============================] - 1s 45ms/step - loss: 0.2372 - acc: 0.9164 - val_loss: 0.2788 - val_acc: 0.9014\n",
            "Epoch 99/100\n",
            "12/12 [==============================] - 1s 45ms/step - loss: 0.2343 - acc: 0.9177 - val_loss: 0.2788 - val_acc: 0.9019\n",
            "Epoch 100/100\n",
            "12/12 [==============================] - 1s 52ms/step - loss: 0.2430 - acc: 0.9160 - val_loss: 0.2798 - val_acc: 0.9020\n"
          ],
          "name": "stdout"
        }
      ]
    },
    {
      "cell_type": "code",
      "metadata": {
        "colab": {
          "base_uri": "https://localhost:8080/",
          "height": 265
        },
        "id": "HOPOK3RVLeUE",
        "outputId": "965352e2-577e-4d73-9b18-33eb8c772d54"
      },
      "source": [
        "plt.plot(history.history['loss'], label='Train loss')\n",
        "plt.plot(history.history['val_loss'], label='Test Loss')\n",
        "plt.legend();"
      ],
      "execution_count": null,
      "outputs": [
        {
          "output_type": "display_data",
          "data": {
            "image/png": "[encoded data removed]",
            "text/plain": [
              "<Figure size 432x288 with 1 Axes>"
            ]
          },
          "metadata": {
            "tags": [],
            "needs_background": "light"
          }
        }
      ]
    },
    {
      "cell_type": "code",
      "metadata": {
        "colab": {
          "base_uri": "https://localhost:8080/",
          "height": 265
        },
        "id": "IEEFbmnqMjn-",
        "outputId": "b814c982-f46f-4918-ed0c-a2eeefc8343b"
      },
      "source": [
        "plt.plot(history.history['acc'], label='Train Accuracy')\n",
        "plt.plot(history.history['val_acc'], label='Test Accuracy')\n",
        "plt.legend();"
      ],
      "execution_count": null,
      "outputs": [
        {
          "output_type": "display_data",
          "data": {
            "image/png": "[encoded data removed]",
            "text/plain": [
              "<Figure size 432x288 with 1 Axes>"
            ]
          },
          "metadata": {
            "tags": [],
            "needs_background": "light"
          }
        }
      ]
    },
    {
      "cell_type": "code",
      "metadata": {
        "id": "ETzU2c5YLFpD"
      },
      "source": [
        "X_test = np.array(X_test).reshape(X_test.shape[0], 28, 28, 1)\n",
        "preds = np.argmax(model.predict(X_test), axis=-1)"
      ],
      "execution_count": null,
      "outputs": []
    },
    {
      "cell_type": "code",
      "metadata": {
        "colab": {
          "base_uri": "https://localhost:8080/"
        },
        "id": "gIM_X1EbNaL5",
        "outputId": "922fd3bc-a2ef-4869-8ae7-8ce46a5d2fd1"
      },
      "source": [
        "accuracy_score(y_test, preds)"
      ],
      "execution_count": null,
      "outputs": [
        {
          "output_type": "execute_result",
          "data": {
            "text/plain": [
              "0.9034"
            ]
          },
          "metadata": {
            "tags": []
          },
          "execution_count": 30
        }
      ]
    },
    {
      "cell_type": "code",
      "metadata": {
        "id": "eHf-M-jrR7Nw"
      },
      "source": [
        ""
      ],
      "execution_count": null,
      "outputs": []
    }
  ]
}