{
  "nbformat": 4,
  "nbformat_minor": 0,
  "metadata": {
    "anaconda-cloud": {},
    "celltoolbar": "Slideshow",
    "kernelspec": {
      "display_name": "Python 3",
      "language": "python",
      "name": "python3"
    },
    "language_info": {
      "codemirror_mode": {
        "name": "ipython",
        "version": 3
      },
      "file_extension": ".py",
      "mimetype": "text/x-python",
      "name": "python",
      "nbconvert_exporter": "python",
      "pygments_lexer": "ipython3",
      "version": "3.7.6"
    },
    "colab": {
      "name": "SQL.ipynb",
      "provenance": [],
      "collapsed_sections": [],
      "include_colab_link": true
    }
  },
  "cells": [
    {
      "cell_type": "markdown",
      "metadata": {
        "id": "view-in-github",
        "colab_type": "text"
      },
      "source": [
        "<a href=\"https://colab.research.google.com/github/D-Soto/Coco/blob/main/SQL.ipynb\" target=\"_parent\"><img src=\"https://colab.research.google.com/assets/colab-badge.svg\" alt=\"Open In Colab\"/></a>"
      ]
    },
    {
      "cell_type": "code",
      "metadata": {
        "id": "4whVGi2Wud1w"
      },
      "source": [
        "import pandas as pd\n",
        "from sqlalchemy import create_engine"
      ],
      "execution_count": null,
      "outputs": []
    },
    {
      "cell_type": "code",
      "metadata": {
        "colab": {
          "base_uri": "https://localhost:8080/",
          "height": 318
        },
        "id": "vttB7TWAUF9B",
        "outputId": "41d73830-fb8a-4c83-ff27-df84407163ea"
      },
      "source": [
        "school = pd.read_csv('/content/drive/My Drive/DS/data/School Details.csv')\n",
        "school.head(2)"
      ],
      "execution_count": null,
      "outputs": [
        {
          "output_type": "execute_result",
          "data": {
            "text/html": [
              "<div>\n",
              "<style scoped>\n",
              "    .dataframe tbody tr th:only-of-type {\n",
              "        vertical-align: middle;\n",
              "    }\n",
              "\n",
              "    .dataframe tbody tr th {\n",
              "        vertical-align: top;\n",
              "    }\n",
              "\n",
              "    .dataframe thead th {\n",
              "        text-align: right;\n",
              "    }\n",
              "</style>\n",
              "<table border=\"1\" class=\"dataframe\">\n",
              "  <thead>\n",
              "    <tr style=\"text-align: right;\">\n",
              "      <th></th>\n",
              "      <th>DistrictName</th>\n",
              "      <th>EstablishmentCode</th>\n",
              "      <th>EstablishmentName</th>\n",
              "      <th>BRCName</th>\n",
              "      <th>CRCName</th>\n",
              "      <th>SchoolLevel</th>\n",
              "      <th>ManagementName</th>\n",
              "      <th>LocalityHabitation</th>\n",
              "      <th>SubdivisionName</th>\n",
              "      <th>ConstituencyName</th>\n",
              "      <th>RevenueBlockName</th>\n",
              "      <th>CivicBodyName</th>\n",
              "      <th>WardName</th>\n",
              "      <th>PostOfficeName</th>\n",
              "      <th>PhoneNo</th>\n",
              "      <th>FaxNo</th>\n",
              "      <th>EmailID</th>\n",
              "      <th>Website</th>\n",
              "      <th>LocatedInRuralOrUrban</th>\n",
              "      <th>DiseCode</th>\n",
              "      <th>EstablishedDate</th>\n",
              "      <th>DistrictHQDistance (in Km)</th>\n",
              "      <th>CRCDistance (in Km)</th>\n",
              "      <th>BACDistance (in Km)</th>\n",
              "      <th>IsRecognized</th>\n",
              "      <th>RecognizedBy</th>\n",
              "      <th>ContactPersonName</th>\n",
              "      <th>LowestClass</th>\n",
              "      <th>HighestClass</th>\n",
              "      <th>BoardName</th>\n",
              "    </tr>\n",
              "  </thead>\n",
              "  <tbody>\n",
              "    <tr>\n",
              "      <th>0</th>\n",
              "      <td>East</td>\n",
              "      <td>S0169</td>\n",
              "      <td>BUDANG GOVERNMENT PRIMARY SCHOOL (E)</td>\n",
              "      <td>Duga Brc</td>\n",
              "      <td>Central Pendam Government Senior Secondary School</td>\n",
              "      <td>PS</td>\n",
              "      <td>State Govt.</td>\n",
              "      <td>BUDANG</td>\n",
              "      <td>Gangtok</td>\n",
              "      <td>Rhenock</td>\n",
              "      <td>Central Pendam</td>\n",
              "      <td>Central Pendam</td>\n",
              "      <td>Sajong</td>\n",
              "      <td>Upper Pendam</td>\n",
              "      <td>NaN</td>\n",
              "      <td>NaN</td>\n",
              "      <td>NaN</td>\n",
              "      <td>NaN</td>\n",
              "      <td>Urban Area</td>\n",
              "      <td>NaN</td>\n",
              "      <td>28126</td>\n",
              "      <td>58.0</td>\n",
              "      <td>8.0</td>\n",
              "      <td>16.0</td>\n",
              "      <td>Recognized</td>\n",
              "      <td>HRDD</td>\n",
              "      <td>NaN</td>\n",
              "      <td>Class 1</td>\n",
              "      <td>Class 5</td>\n",
              "      <td>NaN</td>\n",
              "    </tr>\n",
              "    <tr>\n",
              "      <th>1</th>\n",
              "      <td>East</td>\n",
              "      <td>S0099</td>\n",
              "      <td>CENTRAL PENDAM GOVERNMENT SENIOR SECONDARY SCHOOL</td>\n",
              "      <td>Duga Brc</td>\n",
              "      <td>Central Pendam Government Senior Secondary School</td>\n",
              "      <td>SSS</td>\n",
              "      <td>State Govt.</td>\n",
              "      <td>CENTRAL PENDAM</td>\n",
              "      <td>Gangtok</td>\n",
              "      <td>West Pandam</td>\n",
              "      <td>Central Pendam</td>\n",
              "      <td>Central Pendam</td>\n",
              "      <td>Karmithang</td>\n",
              "      <td>Upper Pendam</td>\n",
              "      <td>3592263812</td>\n",
              "      <td>NaN</td>\n",
              "      <td>NaN</td>\n",
              "      <td>NaN</td>\n",
              "      <td>Urban Area</td>\n",
              "      <td>800401</td>\n",
              "      <td>15342</td>\n",
              "      <td>50.0</td>\n",
              "      <td>0.0</td>\n",
              "      <td>6.0</td>\n",
              "      <td>Recognized</td>\n",
              "      <td>HRDD</td>\n",
              "      <td>NaN</td>\n",
              "      <td>Class 1</td>\n",
              "      <td>Class 12</td>\n",
              "      <td>C.B.S.E.</td>\n",
              "    </tr>\n",
              "  </tbody>\n",
              "</table>\n",
              "</div>"
            ],
            "text/plain": [
              "  DistrictName EstablishmentCode  ... HighestClass BoardName\n",
              "0         East             S0169  ...      Class 5       NaN\n",
              "1         East             S0099  ...     Class 12  C.B.S.E.\n",
              "\n",
              "[2 rows x 30 columns]"
            ]
          },
          "metadata": {
            "tags": []
          },
          "execution_count": 10
        }
      ]
    },
    {
      "cell_type": "code",
      "metadata": {
        "colab": {
          "base_uri": "https://localhost:8080/"
        },
        "id": "PQGdfEEEudzI",
        "outputId": "fde69b3e-084f-4136-a8c2-74e39c02cbd4"
      },
      "source": [
        "engine = create_engine('sqlite:///school.db', echo=True)\n",
        "conn = engine.connect()"
      ],
      "execution_count": null,
      "outputs": [
        {
          "output_type": "stream",
          "text": [
            "2021-01-27 19:40:16,587 INFO sqlalchemy.engine.base.Engine SELECT CAST('test plain returns' AS VARCHAR(60)) AS anon_1\n",
            "2021-01-27 19:40:16,590 INFO sqlalchemy.engine.base.Engine ()\n",
            "2021-01-27 19:40:16,592 INFO sqlalchemy.engine.base.Engine SELECT CAST('test unicode returns' AS VARCHAR(60)) AS anon_1\n",
            "2021-01-27 19:40:16,597 INFO sqlalchemy.engine.base.Engine ()\n"
          ],
          "name": "stdout"
        }
      ]
    },
    {
      "cell_type": "code",
      "metadata": {
        "colab": {
          "base_uri": "https://localhost:8080/"
        },
        "id": "OudkpXECuz2n",
        "outputId": "dcef24bb-8b43-42ee-93b2-9ced0e1bbab1"
      },
      "source": [
        "sqlite_table = \"school_details\"\n",
        "school.to_sql(sqlite_table, conn, if_exists='fail')"
      ],
      "execution_count": null,
      "outputs": [
        {
          "output_type": "stream",
          "text": [
            "2021-01-27 19:52:11,969 INFO sqlalchemy.engine.base.Engine PRAGMA main.table_info(\"school_details\")\n",
            "2021-01-27 19:52:11,971 INFO sqlalchemy.engine.base.Engine ()\n",
            "2021-01-27 19:52:11,972 INFO sqlalchemy.engine.base.Engine PRAGMA temp.table_info(\"school_details\")\n",
            "2021-01-27 19:52:11,974 INFO sqlalchemy.engine.base.Engine ()\n",
            "2021-01-27 19:52:11,981 INFO sqlalchemy.engine.base.Engine \n",
            "CREATE TABLE school_details (\n",
            "\t\"index\" BIGINT, \n",
            "\t\"DistrictName\" TEXT, \n",
            "\t\"EstablishmentCode\" TEXT, \n",
            "\t\"EstablishmentName\" TEXT, \n",
            "\t\"BRCName\" TEXT, \n",
            "\t\"CRCName\" TEXT, \n",
            "\t\"SchoolLevel\" TEXT, \n",
            "\t\"ManagementName\" TEXT, \n",
            "\t\"LocalityHabitation\" TEXT, \n",
            "\t\"SubdivisionName\" TEXT, \n",
            "\t\"ConstituencyName\" TEXT, \n",
            "\t\"RevenueBlockName\" TEXT, \n",
            "\t\"CivicBodyName\" TEXT, \n",
            "\t\"WardName\" TEXT, \n",
            "\t\"PostOfficeName\" TEXT, \n",
            "\t\"PhoneNo\" TEXT, \n",
            "\t\"FaxNo\" TEXT, \n",
            "\t\"EmailID\" TEXT, \n",
            "\t\"Website\" TEXT, \n",
            "\t\"LocatedInRuralOrUrban\" TEXT, \n",
            "\t\"DiseCode\" TEXT, \n",
            "\t\"EstablishedDate\" TEXT, \n",
            "\t\"DistrictHQDistance (in Km)\" FLOAT, \n",
            "\t\"CRCDistance (in Km)\" FLOAT, \n",
            "\t\"BACDistance (in Km)\" FLOAT, \n",
            "\t\"IsRecognized\" TEXT, \n",
            "\t\"RecognizedBy\" TEXT, \n",
            "\t\"ContactPersonName\" FLOAT, \n",
            "\t\"LowestClass\" TEXT, \n",
            "\t\"HighestClass\" TEXT, \n",
            "\t\"BoardName\" TEXT\n",
            ")\n",
            "\n",
            "\n",
            "2021-01-27 19:52:11,983 INFO sqlalchemy.engine.base.Engine ()\n",
            "2021-01-27 19:52:12,003 INFO sqlalchemy.engine.base.Engine COMMIT\n",
            "2021-01-27 19:52:12,004 INFO sqlalchemy.engine.base.Engine CREATE INDEX ix_school_details_index ON school_details (\"index\")\n",
            "2021-01-27 19:52:12,006 INFO sqlalchemy.engine.base.Engine ()\n",
            "2021-01-27 19:52:12,027 INFO sqlalchemy.engine.base.Engine COMMIT\n",
            "2021-01-27 19:52:12,036 INFO sqlalchemy.engine.base.Engine BEGIN (implicit)\n",
            "2021-01-27 19:52:12,068 INFO sqlalchemy.engine.base.Engine INSERT INTO school_details (\"index\", \"DistrictName\", \"EstablishmentCode\", \"EstablishmentName\", \"BRCName\", \"CRCName\", \"SchoolLevel\", \"ManagementName\", \"LocalityHabitation\", \"SubdivisionName\", \"ConstituencyName\", \"RevenueBlockName\", \"CivicBodyName\", \"WardName\", \"PostOfficeName\", \"PhoneNo\", \"FaxNo\", \"EmailID\", \"Website\", \"LocatedInRuralOrUrban\", \"DiseCode\", \"EstablishedDate\", \"DistrictHQDistance (in Km)\", \"CRCDistance (in Km)\", \"BACDistance (in Km)\", \"IsRecognized\", \"RecognizedBy\", \"ContactPersonName\", \"LowestClass\", \"HighestClass\", \"BoardName\") VALUES (?, ?, ?, ?, ?, ?, ?, ?, ?, ?, ?, ?, ?, ?, ?, ?, ?, ?, ?, ?, ?, ?, ?, ?, ?, ?, ?, ?, ?, ?, ?)\n",
            "2021-01-27 19:52:12,070 INFO sqlalchemy.engine.base.Engine ((0, 'East', 'S0169', 'BUDANG GOVERNMENT PRIMARY SCHOOL (E)', 'Duga Brc', 'Central Pendam Government Senior Secondary School', 'PS', 'State Govt.', 'BUDANG', 'Gangtok', 'Rhenock', 'Central Pendam', 'Central Pendam', 'Sajong', 'Upper Pendam', None, None, None, None, 'Urban Area', None, '28126', 58.0, 8.0, 16.0, 'Recognized', 'HRDD', None, 'Class 1', 'Class 5', None), (1, 'East', 'S0099', 'CENTRAL PENDAM GOVERNMENT SENIOR SECONDARY SCHOOL', 'Duga Brc', 'Central Pendam Government Senior Secondary School', 'SSS', 'State Govt.', 'CENTRAL PENDAM', 'Gangtok', 'West Pandam', 'Central Pendam', 'Central Pendam', 'Karmithang', 'Upper Pendam', '3592263812', None, None, None, 'Urban Area', '800401', '15342', 50.0, 0.0, 6.0, 'Recognized', 'HRDD', None, 'Class 1', 'Class 12', 'C.B.S.E.'), (2, 'East', 'S0848', 'CENTRAL POINT ACADEMY, CENTRAL PENDAM', 'Duga Brc', 'Central Pendam Government Senior Secondary School', 'SS', 'Private (Unaided)', 'UPPER BHURUNG CENTRAL PENDAM', 'Gangtok', 'West Pandam', 'Central Pendam', 'Central Pendam', 'Burung', 'Upper Pendam', '03592263809/263960', None, 'ksu_5162@yahoo.com', 'www.facebook.com/khanalkeshav (Group-CPA)', 'Urban Area', None, '37257.38680555556', 49.0, 1.5, 6.0, 'Recognized', 'HRDD, GOVT. OF SIKKIM', None, 'Class 1', 'Class 10', 'C.B.S.E.'), (3, 'East', 'S0190', 'CHEURIBOTEY GOVERNMENT JUNIOR HIGH SCHOOL (E)', 'Duga Brc', 'Central Pendam Government Senior Secondary School', 'JHS', 'State Govt.', 'CHEURIBOTEY', 'Gangtok', 'West Pandam', 'Central Pendam', 'Central Pendam', 'Cheuribotey', 'Duga', None, None, None, None, 'Urban Area', None, '28856', 60.0, 6.0, 6.0, 'Recognized', 'State Govt.', None, 'Class 1', 'Class 8', None), (4, 'East', 'S0111', 'DUGA GOVERNMENT SECONDARY SCHOOL', 'Duga Brc', 'Central Pendam Government Senior Secondary School', 'SS', 'State Govt.', 'DUGA', 'Gangtok', 'West Pandam', 'Central Pendam', 'Central Pendam', 'Duga', 'Duga', '9832082915', None, 'dugaschool@gmail.com', None, 'Urban Area', None, '1828', 52.0, 0.0, 0.5, 'Recognized', 'c.b.s.e.', None, 'Class 1', 'Class 10', 'C.B.S.E.'), (5, 'East', 'S0856', 'EASWARAMMA SAI GURUKOOL ACCADEMY', 'Duga Brc', 'Central Pendam Government Senior Secondary School', 'PS', 'Private (Unaided)', 'RALUNG', 'Gangtok', 'West Pandam', 'Central Pendam', 'West Pendam', 'Ralang', 'West Pendam', '9733056624', None, None, None, 'Urban Area', None, '40179.66805555556', 0.0, 0.2, 0.2, 'Recognized', None, None, 'Class 1', 'Class 5', None), (6, 'East', 'S0870', 'ETERNAL ENGLISH SCHOOL, WEST PENDAM', 'Duga Brc', 'Central Pendam Government Senior Secondary School', 'PS', 'Private (Unaided)', 'SAKHU WEST PENDAM', 'Gangtok', 'West Pandam', 'West Pendam', 'West Pendam', 'Sakhu', 'Sakhu Busty', '9734190544', None, None, None, 'Urban Area', None, '37300.66805555556', 42.0, 3.0, 4.0, 'Recognized', 'HRDD OF SIKKIM', None, 'Class 1', 'Class 5', None), (7, 'East', 'S0157', 'KHANI GOAN GOVERNMENT PRIMARY SCHOOL', 'Duga Brc', 'Central Pendam Government Senior Secondary School', 'PS', 'State Govt.', 'WEST PENDAM', 'Gangtok', 'West Pandam', 'West Pendam', 'West Pendam', 'Khanigaon', 'West Pendam', '9832470263', None, None, None, 'Urban Area', '801801', '29587', 45.0, 5.0, 4.0, 'Recognized', 'State Govt.', None, 'Class 1', 'Class 5', 'C.B.S.E.')  ... displaying 10 of 1249 total bound parameter sets ...  (1247, 'West', 'S0340', 'TINGTING GAON GOVERNMENT PRIMARY SCHOOL', 'Yuksom Brc', 'Yuksom Government Secondary School', 'PS', 'State Govt.', 'TING TING GAON', 'Gyalshing', 'Yoksam-Tashiding', 'Yoksam', 'Yuksom', 'Tingting', 'Yuksom', '9593377402', None, None, None, 'Urban Area', '100282', '29587', 36.0, 3.0, 6.0, 'Recognized', 'STATE GOVERNMENT', None, 'Class 1', 'Class 5', None), (1248, 'West', 'S0542', 'TSONG GOVERNMENT PRIMARY SCHOOL', 'Yuksom Brc', 'Yuksom Government Secondary School', 'PS', 'State Govt.', 'TSONG', 'Gyalshing', 'Yoksam-Tashiding', 'Yoksam', 'Yuksom', 'Yoksam', 'Yuksom', None, None, None, None, 'Urban Area', None, '28176', 40.0, 7.0, 8.0, 'Recognized', 'State Government', None, 'Class 1', 'Class 5', 'C.B.S.E.'))\n",
            "2021-01-27 19:52:12,093 INFO sqlalchemy.engine.base.Engine COMMIT\n"
          ],
          "name": "stdout"
        }
      ]
    },
    {
      "cell_type": "code",
      "metadata": {
        "colab": {
          "base_uri": "https://localhost:8080/",
          "height": 289
        },
        "id": "dD-WyYtBuzuu",
        "outputId": "934039d3-01c9-46ac-aaa1-5178e595a5df"
      },
      "source": [
        "sql = \"\"\"\n",
        "SELECT EstablishmentName, SchoolLevel, Website\n",
        "FROM school_details\n",
        "\"\"\"\n",
        "df = pd.read_sql_query(sql, engine)\n",
        "df.head()"
      ],
      "execution_count": null,
      "outputs": [
        {
          "output_type": "stream",
          "text": [
            "2021-01-27 21:24:58,876 INFO sqlalchemy.engine.base.OptionEngine \n",
            "SELECT EstablishmentName, SchoolLevel, Website\n",
            "FROM school_details\n",
            "\n",
            "2021-01-27 21:24:58,877 INFO sqlalchemy.engine.base.OptionEngine ()\n"
          ],
          "name": "stdout"
        },
        {
          "output_type": "execute_result",
          "data": {
            "text/html": [
              "<div>\n",
              "<style scoped>\n",
              "    .dataframe tbody tr th:only-of-type {\n",
              "        vertical-align: middle;\n",
              "    }\n",
              "\n",
              "    .dataframe tbody tr th {\n",
              "        vertical-align: top;\n",
              "    }\n",
              "\n",
              "    .dataframe thead th {\n",
              "        text-align: right;\n",
              "    }\n",
              "</style>\n",
              "<table border=\"1\" class=\"dataframe\">\n",
              "  <thead>\n",
              "    <tr style=\"text-align: right;\">\n",
              "      <th></th>\n",
              "      <th>EstablishmentName</th>\n",
              "      <th>SchoolLevel</th>\n",
              "      <th>Website</th>\n",
              "    </tr>\n",
              "  </thead>\n",
              "  <tbody>\n",
              "    <tr>\n",
              "      <th>0</th>\n",
              "      <td>BUDANG GOVERNMENT PRIMARY SCHOOL (E)</td>\n",
              "      <td>PS</td>\n",
              "      <td>None</td>\n",
              "    </tr>\n",
              "    <tr>\n",
              "      <th>1</th>\n",
              "      <td>CENTRAL PENDAM GOVERNMENT SENIOR SECONDARY SCHOOL</td>\n",
              "      <td>SSS</td>\n",
              "      <td>None</td>\n",
              "    </tr>\n",
              "    <tr>\n",
              "      <th>2</th>\n",
              "      <td>CENTRAL POINT ACADEMY, CENTRAL PENDAM</td>\n",
              "      <td>SS</td>\n",
              "      <td>www.facebook.com/khanalkeshav (Group-CPA)</td>\n",
              "    </tr>\n",
              "    <tr>\n",
              "      <th>3</th>\n",
              "      <td>CHEURIBOTEY GOVERNMENT JUNIOR HIGH SCHOOL (E)</td>\n",
              "      <td>JHS</td>\n",
              "      <td>None</td>\n",
              "    </tr>\n",
              "    <tr>\n",
              "      <th>4</th>\n",
              "      <td>DUGA GOVERNMENT SECONDARY SCHOOL</td>\n",
              "      <td>SS</td>\n",
              "      <td>None</td>\n",
              "    </tr>\n",
              "  </tbody>\n",
              "</table>\n",
              "</div>"
            ],
            "text/plain": [
              "                                   EstablishmentName  ...                                    Website\n",
              "0               BUDANG GOVERNMENT PRIMARY SCHOOL (E)  ...                                       None\n",
              "1  CENTRAL PENDAM GOVERNMENT SENIOR SECONDARY SCHOOL  ...                                       None\n",
              "2              CENTRAL POINT ACADEMY, CENTRAL PENDAM  ...  www.facebook.com/khanalkeshav (Group-CPA)\n",
              "3      CHEURIBOTEY GOVERNMENT JUNIOR HIGH SCHOOL (E)  ...                                       None\n",
              "4                   DUGA GOVERNMENT SECONDARY SCHOOL  ...                                       None\n",
              "\n",
              "[5 rows x 3 columns]"
            ]
          },
          "metadata": {
            "tags": []
          },
          "execution_count": 16
        }
      ]
    },
    {
      "cell_type": "code",
      "metadata": {
        "colab": {
          "base_uri": "https://localhost:8080/",
          "height": 306
        },
        "id": "NkjPihzvudvR",
        "outputId": "6363decd-240d-45a3-9c76-9805dcecdec3"
      },
      "source": [
        "sql = \"\"\"\n",
        "SELECT EstablishmentName, \"DistrictHQDistance (in Km)\"\n",
        "FROM school_details\n",
        "WHERE \"DistrictHQDistance (in Km)\" > 100\n",
        "\"\"\"\n",
        "df = pd.read_sql_query(sql, engine)\n",
        "df.head()"
      ],
      "execution_count": null,
      "outputs": [
        {
          "output_type": "stream",
          "text": [
            "2021-01-27 21:27:49,749 INFO sqlalchemy.engine.base.OptionEngine \n",
            "SELECT EstablishmentName, \"DistrictHQDistance (in Km)\"\n",
            "FROM school_details\n",
            "WHERE \"DistrictHQDistance (in Km)\" > 100\n",
            "\n",
            "2021-01-27 21:27:49,753 INFO sqlalchemy.engine.base.OptionEngine ()\n"
          ],
          "name": "stdout"
        },
        {
          "output_type": "execute_result",
          "data": {
            "text/html": [
              "<div>\n",
              "<style scoped>\n",
              "    .dataframe tbody tr th:only-of-type {\n",
              "        vertical-align: middle;\n",
              "    }\n",
              "\n",
              "    .dataframe tbody tr th {\n",
              "        vertical-align: top;\n",
              "    }\n",
              "\n",
              "    .dataframe thead th {\n",
              "        text-align: right;\n",
              "    }\n",
              "</style>\n",
              "<table border=\"1\" class=\"dataframe\">\n",
              "  <thead>\n",
              "    <tr style=\"text-align: right;\">\n",
              "      <th></th>\n",
              "      <th>EstablishmentName</th>\n",
              "      <th>DistrictHQDistance (in Km)</th>\n",
              "    </tr>\n",
              "  </thead>\n",
              "  <tbody>\n",
              "    <tr>\n",
              "      <th>0</th>\n",
              "      <td>DODACHEN GOVERNMENT PRIMARY SCHOOL</td>\n",
              "      <td>150.0</td>\n",
              "    </tr>\n",
              "    <tr>\n",
              "      <th>1</th>\n",
              "      <td>DEOLING GOVERNMENT PRIMARY SCHOOL</td>\n",
              "      <td>107.0</td>\n",
              "    </tr>\n",
              "    <tr>\n",
              "      <th>2</th>\n",
              "      <td>PEMA TSEL ACADEMY(PHADAMCHEN)</td>\n",
              "      <td>110.0</td>\n",
              "    </tr>\n",
              "    <tr>\n",
              "      <th>3</th>\n",
              "      <td>ZULUCK GOVERNMENT PRIMARY SCHOOL</td>\n",
              "      <td>120.0</td>\n",
              "    </tr>\n",
              "    <tr>\n",
              "      <th>4</th>\n",
              "      <td>BHARENG GOVERNMENT PRIMARY SCHOOL</td>\n",
              "      <td>150.0</td>\n",
              "    </tr>\n",
              "  </tbody>\n",
              "</table>\n",
              "</div>"
            ],
            "text/plain": [
              "                    EstablishmentName  DistrictHQDistance (in Km)\n",
              "0  DODACHEN GOVERNMENT PRIMARY SCHOOL                       150.0\n",
              "1   DEOLING GOVERNMENT PRIMARY SCHOOL                       107.0\n",
              "2       PEMA TSEL ACADEMY(PHADAMCHEN)                       110.0\n",
              "3    ZULUCK GOVERNMENT PRIMARY SCHOOL                       120.0\n",
              "4   BHARENG GOVERNMENT PRIMARY SCHOOL                       150.0"
            ]
          },
          "metadata": {
            "tags": []
          },
          "execution_count": 19
        }
      ]
    },
    {
      "cell_type": "code",
      "metadata": {
        "colab": {
          "base_uri": "https://localhost:8080/",
          "height": 306
        },
        "id": "nyKYBoMuwCbR",
        "outputId": "13dfb1a4-31e5-4b82-ee3e-de9edff8166e"
      },
      "source": [
        "sql = \"\"\"\n",
        "SELECT EstablishmentName, SchoolLevel, \"DistrictHQDistance (in Km)\"\n",
        "FROM school_details\n",
        "WHERE SchoolLevel = 'JHS'\n",
        "\"\"\"\n",
        "df = pd.read_sql_query(sql, engine)\n",
        "df.head()"
      ],
      "execution_count": null,
      "outputs": [
        {
          "output_type": "stream",
          "text": [
            "2021-01-27 21:34:58,732 INFO sqlalchemy.engine.base.OptionEngine \n",
            "SELECT EstablishmentName, SchoolLevel, \"DistrictHQDistance (in Km)\"\n",
            "FROM school_details\n",
            "WHERE SchoolLevel = 'JHS'\n",
            "\n",
            "2021-01-27 21:34:58,734 INFO sqlalchemy.engine.base.OptionEngine ()\n"
          ],
          "name": "stdout"
        },
        {
          "output_type": "execute_result",
          "data": {
            "text/html": [
              "<div>\n",
              "<style scoped>\n",
              "    .dataframe tbody tr th:only-of-type {\n",
              "        vertical-align: middle;\n",
              "    }\n",
              "\n",
              "    .dataframe tbody tr th {\n",
              "        vertical-align: top;\n",
              "    }\n",
              "\n",
              "    .dataframe thead th {\n",
              "        text-align: right;\n",
              "    }\n",
              "</style>\n",
              "<table border=\"1\" class=\"dataframe\">\n",
              "  <thead>\n",
              "    <tr style=\"text-align: right;\">\n",
              "      <th></th>\n",
              "      <th>EstablishmentName</th>\n",
              "      <th>SchoolLevel</th>\n",
              "      <th>DistrictHQDistance (in Km)</th>\n",
              "    </tr>\n",
              "  </thead>\n",
              "  <tbody>\n",
              "    <tr>\n",
              "      <th>0</th>\n",
              "      <td>CHEURIBOTEY GOVERNMENT JUNIOR HIGH SCHOOL (E)</td>\n",
              "      <td>JHS</td>\n",
              "      <td>60.0</td>\n",
              "    </tr>\n",
              "    <tr>\n",
              "      <th>1</th>\n",
              "      <td>PADMA KUMARI PUBLIC SCHOOL, DUGA</td>\n",
              "      <td>JHS</td>\n",
              "      <td>48.0</td>\n",
              "    </tr>\n",
              "    <tr>\n",
              "      <th>2</th>\n",
              "      <td>SAJONG GOVERNMENT JUNIOR HIGH SCHOOL</td>\n",
              "      <td>JHS</td>\n",
              "      <td>57.0</td>\n",
              "    </tr>\n",
              "    <tr>\n",
              "      <th>3</th>\n",
              "      <td>SINGLEYBONG GOVERNMENT JUNIOR HIGH SCHOOL</td>\n",
              "      <td>JHS</td>\n",
              "      <td>38.0</td>\n",
              "    </tr>\n",
              "    <tr>\n",
              "      <th>4</th>\n",
              "      <td>SUNRISE ACADEMY, DUGA</td>\n",
              "      <td>JHS</td>\n",
              "      <td>47.0</td>\n",
              "    </tr>\n",
              "  </tbody>\n",
              "</table>\n",
              "</div>"
            ],
            "text/plain": [
              "                               EstablishmentName  ... DistrictHQDistance (in Km)\n",
              "0  CHEURIBOTEY GOVERNMENT JUNIOR HIGH SCHOOL (E)  ...                       60.0\n",
              "1               PADMA KUMARI PUBLIC SCHOOL, DUGA  ...                       48.0\n",
              "2           SAJONG GOVERNMENT JUNIOR HIGH SCHOOL  ...                       57.0\n",
              "3      SINGLEYBONG GOVERNMENT JUNIOR HIGH SCHOOL  ...                       38.0\n",
              "4                          SUNRISE ACADEMY, DUGA  ...                       47.0\n",
              "\n",
              "[5 rows x 3 columns]"
            ]
          },
          "metadata": {
            "tags": []
          },
          "execution_count": 25
        }
      ]
    },
    {
      "cell_type": "code",
      "metadata": {
        "colab": {
          "base_uri": "https://localhost:8080/",
          "height": 306
        },
        "id": "_JlXTE_ywUeQ",
        "outputId": "8a619084-0839-416a-8862-bfe20b532f56"
      },
      "source": [
        "sql = \"\"\"\n",
        "SELECT EstablishmentName, SchoolLevel, \"DistrictHQDistance (in Km)\"\n",
        "FROM school_details\n",
        "WHERE EstablishmentName LIKE '%JUNIOR HIGH%'\n",
        "\"\"\"\n",
        "df = pd.read_sql_query(sql, engine)\n",
        "df.head()"
      ],
      "execution_count": null,
      "outputs": [
        {
          "output_type": "stream",
          "text": [
            "2021-01-27 21:34:54,741 INFO sqlalchemy.engine.base.OptionEngine \n",
            "SELECT EstablishmentName, SchoolLevel, \"DistrictHQDistance (in Km)\"\n",
            "FROM school_details\n",
            "WHERE EstablishmentName LIKE '%JUNIOR HIGH%'\n",
            "\n",
            "2021-01-27 21:34:54,742 INFO sqlalchemy.engine.base.OptionEngine ()\n"
          ],
          "name": "stdout"
        },
        {
          "output_type": "execute_result",
          "data": {
            "text/html": [
              "<div>\n",
              "<style scoped>\n",
              "    .dataframe tbody tr th:only-of-type {\n",
              "        vertical-align: middle;\n",
              "    }\n",
              "\n",
              "    .dataframe tbody tr th {\n",
              "        vertical-align: top;\n",
              "    }\n",
              "\n",
              "    .dataframe thead th {\n",
              "        text-align: right;\n",
              "    }\n",
              "</style>\n",
              "<table border=\"1\" class=\"dataframe\">\n",
              "  <thead>\n",
              "    <tr style=\"text-align: right;\">\n",
              "      <th></th>\n",
              "      <th>EstablishmentName</th>\n",
              "      <th>SchoolLevel</th>\n",
              "      <th>DistrictHQDistance (in Km)</th>\n",
              "    </tr>\n",
              "  </thead>\n",
              "  <tbody>\n",
              "    <tr>\n",
              "      <th>0</th>\n",
              "      <td>CHEURIBOTEY GOVERNMENT JUNIOR HIGH SCHOOL (E)</td>\n",
              "      <td>JHS</td>\n",
              "      <td>60.0</td>\n",
              "    </tr>\n",
              "    <tr>\n",
              "      <th>1</th>\n",
              "      <td>SAJONG GOVERNMENT JUNIOR HIGH SCHOOL</td>\n",
              "      <td>JHS</td>\n",
              "      <td>57.0</td>\n",
              "    </tr>\n",
              "    <tr>\n",
              "      <th>2</th>\n",
              "      <td>SINGLEYBONG GOVERNMENT JUNIOR HIGH SCHOOL</td>\n",
              "      <td>JHS</td>\n",
              "      <td>38.0</td>\n",
              "    </tr>\n",
              "    <tr>\n",
              "      <th>3</th>\n",
              "      <td>BORDANG GOVERNMENT JUNIOR HIGH SCHOOL</td>\n",
              "      <td>JHS</td>\n",
              "      <td>33.0</td>\n",
              "    </tr>\n",
              "    <tr>\n",
              "      <th>4</th>\n",
              "      <td>RANGPO BAZAR GOVERNMENT JUNIOR HIGH SCHOOL</td>\n",
              "      <td>JHS</td>\n",
              "      <td>47.0</td>\n",
              "    </tr>\n",
              "  </tbody>\n",
              "</table>\n",
              "</div>"
            ],
            "text/plain": [
              "                               EstablishmentName  ... DistrictHQDistance (in Km)\n",
              "0  CHEURIBOTEY GOVERNMENT JUNIOR HIGH SCHOOL (E)  ...                       60.0\n",
              "1           SAJONG GOVERNMENT JUNIOR HIGH SCHOOL  ...                       57.0\n",
              "2      SINGLEYBONG GOVERNMENT JUNIOR HIGH SCHOOL  ...                       38.0\n",
              "3          BORDANG GOVERNMENT JUNIOR HIGH SCHOOL  ...                       33.0\n",
              "4     RANGPO BAZAR GOVERNMENT JUNIOR HIGH SCHOOL  ...                       47.0\n",
              "\n",
              "[5 rows x 3 columns]"
            ]
          },
          "metadata": {
            "tags": []
          },
          "execution_count": 24
        }
      ]
    },
    {
      "cell_type": "code",
      "metadata": {
        "colab": {
          "base_uri": "https://localhost:8080/",
          "height": 340
        },
        "id": "kDXqMQjdw2fK",
        "outputId": "a7eba49e-7d82-44c3-8750-6b6c0494bd81"
      },
      "source": [
        "sql = \"\"\"\n",
        "SELECT EstablishmentName, SchoolLevel, \"DistrictHQDistance (in Km)\"\n",
        "FROM school_details\n",
        "WHERE EstablishmentName LIKE 'C%'\n",
        "ORDER BY EstablishmentName\n",
        "LIMIT 10\n",
        "\"\"\"\n",
        "df = pd.read_sql_query(sql, engine)\n",
        "df.head()"
      ],
      "execution_count": null,
      "outputs": [
        {
          "output_type": "stream",
          "text": [
            "2021-01-27 21:34:50,066 INFO sqlalchemy.engine.base.OptionEngine \n",
            "SELECT EstablishmentName, SchoolLevel, \"DistrictHQDistance (in Km)\"\n",
            "FROM school_details\n",
            "WHERE EstablishmentName LIKE 'C%'\n",
            "ORDER BY EstablishmentName\n",
            "LIMIT 10\n",
            "\n",
            "2021-01-27 21:34:50,068 INFO sqlalchemy.engine.base.OptionEngine ()\n"
          ],
          "name": "stdout"
        },
        {
          "output_type": "execute_result",
          "data": {
            "text/html": [
              "<div>\n",
              "<style scoped>\n",
              "    .dataframe tbody tr th:only-of-type {\n",
              "        vertical-align: middle;\n",
              "    }\n",
              "\n",
              "    .dataframe tbody tr th {\n",
              "        vertical-align: top;\n",
              "    }\n",
              "\n",
              "    .dataframe thead th {\n",
              "        text-align: right;\n",
              "    }\n",
              "</style>\n",
              "<table border=\"1\" class=\"dataframe\">\n",
              "  <thead>\n",
              "    <tr style=\"text-align: right;\">\n",
              "      <th></th>\n",
              "      <th>EstablishmentName</th>\n",
              "      <th>SchoolLevel</th>\n",
              "      <th>DistrictHQDistance (in Km)</th>\n",
              "    </tr>\n",
              "  </thead>\n",
              "  <tbody>\n",
              "    <tr>\n",
              "      <th>0</th>\n",
              "      <td>C.M.RAI GOVERNMENT SECONDARY SCHOOL (OMCHU)</td>\n",
              "      <td>SS</td>\n",
              "      <td>26.0</td>\n",
              "    </tr>\n",
              "    <tr>\n",
              "      <th>1</th>\n",
              "      <td>CANAAN SCHOOL, RANIPOOL</td>\n",
              "      <td>JHS</td>\n",
              "      <td>0.0</td>\n",
              "    </tr>\n",
              "    <tr>\n",
              "      <th>2</th>\n",
              "      <td>CANARY BIRD ACADEMY, KARTOK</td>\n",
              "      <td>PS</td>\n",
              "      <td>38.0</td>\n",
              "    </tr>\n",
              "    <tr>\n",
              "      <th>3</th>\n",
              "      <td>CAROL ACADEMY, YANGSUM UPPER BERFOK</td>\n",
              "      <td>JHS</td>\n",
              "      <td>50.0</td>\n",
              "    </tr>\n",
              "    <tr>\n",
              "      <th>4</th>\n",
              "      <td>CENTRAL MARTAM GOVERNMENT JUNIOR SCHOOL</td>\n",
              "      <td>JHS</td>\n",
              "      <td>50.0</td>\n",
              "    </tr>\n",
              "  </tbody>\n",
              "</table>\n",
              "</div>"
            ],
            "text/plain": [
              "                             EstablishmentName  ... DistrictHQDistance (in Km)\n",
              "0  C.M.RAI GOVERNMENT SECONDARY SCHOOL (OMCHU)  ...                       26.0\n",
              "1                      CANAAN SCHOOL, RANIPOOL  ...                        0.0\n",
              "2                  CANARY BIRD ACADEMY, KARTOK  ...                       38.0\n",
              "3          CAROL ACADEMY, YANGSUM UPPER BERFOK  ...                       50.0\n",
              "4      CENTRAL MARTAM GOVERNMENT JUNIOR SCHOOL  ...                       50.0\n",
              "\n",
              "[5 rows x 3 columns]"
            ]
          },
          "metadata": {
            "tags": []
          },
          "execution_count": 23
        }
      ]
    },
    {
      "cell_type": "code",
      "metadata": {
        "colab": {
          "base_uri": "https://localhost:8080/",
          "height": 323
        },
        "id": "xw6SGQHQw4dS",
        "outputId": "94b40d25-cc9c-497d-b378-0042360d0a65"
      },
      "source": [
        "sql = \"\"\"\n",
        "SELECT EstablishmentName\n",
        "FROM school_details\n",
        "WHERE LocatedInRuralOrUrban LIKE 'Urban%'\n",
        "ORDER BY EstablishmentName DESC\n",
        "\"\"\"\n",
        "df = pd.read_sql_query(sql, engine)\n",
        "df.head()"
      ],
      "execution_count": null,
      "outputs": [
        {
          "output_type": "stream",
          "text": [
            "2021-01-27 21:37:17,518 INFO sqlalchemy.engine.base.OptionEngine \n",
            "SELECT EstablishmentName\n",
            "FROM school_details\n",
            "WHERE LocatedInRuralOrUrban LIKE 'Urban%'\n",
            "ORDER BY EstablishmentName DESC\n",
            "\n",
            "2021-01-27 21:37:17,519 INFO sqlalchemy.engine.base.OptionEngine ()\n"
          ],
          "name": "stdout"
        },
        {
          "output_type": "execute_result",
          "data": {
            "text/html": [
              "<div>\n",
              "<style scoped>\n",
              "    .dataframe tbody tr th:only-of-type {\n",
              "        vertical-align: middle;\n",
              "    }\n",
              "\n",
              "    .dataframe tbody tr th {\n",
              "        vertical-align: top;\n",
              "    }\n",
              "\n",
              "    .dataframe thead th {\n",
              "        text-align: right;\n",
              "    }\n",
              "</style>\n",
              "<table border=\"1\" class=\"dataframe\">\n",
              "  <thead>\n",
              "    <tr style=\"text-align: right;\">\n",
              "      <th></th>\n",
              "      <th>EstablishmentName</th>\n",
              "    </tr>\n",
              "  </thead>\n",
              "  <tbody>\n",
              "    <tr>\n",
              "      <th>0</th>\n",
              "      <td>ZULUCK GOVERNMENT PRIMARY SCHOOL</td>\n",
              "    </tr>\n",
              "    <tr>\n",
              "      <th>1</th>\n",
              "      <td>ZOOM GOVERNMENT SECONDARY SCHOOL</td>\n",
              "    </tr>\n",
              "    <tr>\n",
              "      <th>2</th>\n",
              "      <td>ZITLANG GOVERNMENT JUNIOR HIGH SCHOOL</td>\n",
              "    </tr>\n",
              "    <tr>\n",
              "      <th>3</th>\n",
              "      <td>ZINGLA GOVERNMENT PRIMARY SCHOOL</td>\n",
              "    </tr>\n",
              "    <tr>\n",
              "      <th>4</th>\n",
              "      <td>ZENITH PUBLIC SCHOOL</td>\n",
              "    </tr>\n",
              "  </tbody>\n",
              "</table>\n",
              "</div>"
            ],
            "text/plain": [
              "                       EstablishmentName\n",
              "0       ZULUCK GOVERNMENT PRIMARY SCHOOL\n",
              "1       ZOOM GOVERNMENT SECONDARY SCHOOL\n",
              "2  ZITLANG GOVERNMENT JUNIOR HIGH SCHOOL\n",
              "3       ZINGLA GOVERNMENT PRIMARY SCHOOL\n",
              "4                   ZENITH PUBLIC SCHOOL"
            ]
          },
          "metadata": {
            "tags": []
          },
          "execution_count": 28
        }
      ]
    },
    {
      "cell_type": "code",
      "metadata": {
        "colab": {
          "base_uri": "https://localhost:8080/",
          "height": 323
        },
        "id": "vDQJQ1RWw5sD",
        "outputId": "6f2960b2-0a89-45c6-d886-ae0a4e661132"
      },
      "source": [
        "sql = \"\"\"\n",
        "SELECT EstablishmentName AS 'name'\n",
        "FROM school_details\n",
        "WHERE LocatedInRuralOrUrban LIKE 'Urban%'\n",
        "ORDER BY EstablishmentName DESC\n",
        "\"\"\"\n",
        "df = pd.read_sql_query(sql, engine)\n",
        "df.head()"
      ],
      "execution_count": null,
      "outputs": [
        {
          "output_type": "stream",
          "text": [
            "2021-01-27 21:39:16,359 INFO sqlalchemy.engine.base.OptionEngine \n",
            "SELECT EstablishmentName AS 'name'\n",
            "FROM school_details\n",
            "WHERE LocatedInRuralOrUrban LIKE 'Urban%'\n",
            "ORDER BY EstablishmentName DESC\n",
            "\n",
            "2021-01-27 21:39:16,360 INFO sqlalchemy.engine.base.OptionEngine ()\n"
          ],
          "name": "stdout"
        },
        {
          "output_type": "execute_result",
          "data": {
            "text/html": [
              "<div>\n",
              "<style scoped>\n",
              "    .dataframe tbody tr th:only-of-type {\n",
              "        vertical-align: middle;\n",
              "    }\n",
              "\n",
              "    .dataframe tbody tr th {\n",
              "        vertical-align: top;\n",
              "    }\n",
              "\n",
              "    .dataframe thead th {\n",
              "        text-align: right;\n",
              "    }\n",
              "</style>\n",
              "<table border=\"1\" class=\"dataframe\">\n",
              "  <thead>\n",
              "    <tr style=\"text-align: right;\">\n",
              "      <th></th>\n",
              "      <th>name</th>\n",
              "    </tr>\n",
              "  </thead>\n",
              "  <tbody>\n",
              "    <tr>\n",
              "      <th>0</th>\n",
              "      <td>ZULUCK GOVERNMENT PRIMARY SCHOOL</td>\n",
              "    </tr>\n",
              "    <tr>\n",
              "      <th>1</th>\n",
              "      <td>ZOOM GOVERNMENT SECONDARY SCHOOL</td>\n",
              "    </tr>\n",
              "    <tr>\n",
              "      <th>2</th>\n",
              "      <td>ZITLANG GOVERNMENT JUNIOR HIGH SCHOOL</td>\n",
              "    </tr>\n",
              "    <tr>\n",
              "      <th>3</th>\n",
              "      <td>ZINGLA GOVERNMENT PRIMARY SCHOOL</td>\n",
              "    </tr>\n",
              "    <tr>\n",
              "      <th>4</th>\n",
              "      <td>ZENITH PUBLIC SCHOOL</td>\n",
              "    </tr>\n",
              "  </tbody>\n",
              "</table>\n",
              "</div>"
            ],
            "text/plain": [
              "                                    name\n",
              "0       ZULUCK GOVERNMENT PRIMARY SCHOOL\n",
              "1       ZOOM GOVERNMENT SECONDARY SCHOOL\n",
              "2  ZITLANG GOVERNMENT JUNIOR HIGH SCHOOL\n",
              "3       ZINGLA GOVERNMENT PRIMARY SCHOOL\n",
              "4                   ZENITH PUBLIC SCHOOL"
            ]
          },
          "metadata": {
            "tags": []
          },
          "execution_count": 29
        }
      ]
    }
  ]
}